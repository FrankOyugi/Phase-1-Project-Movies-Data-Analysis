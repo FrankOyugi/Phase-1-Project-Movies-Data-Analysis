{
 "cells": [
  {
   "cell_type": "markdown",
   "metadata": {},
   "source": [
    "## Final Project Submission\n",
    "\n",
    "Please fill out:\n",
    "* Student name: Frank Oyugi\n",
    "* Student pace: self paced / part time / full time : full time\n",
    "* Scheduled project review date/time: 22/03/2024\n",
    "* Instructor name: Maryann Mwikali\n",
    "* Blog post URL:https://github.com/FrankOyugi/Phase-1-Project-Movies-Data-Analysis\n"
   ]
  },
  {
   "cell_type": "markdown",
   "metadata": {},
   "source": [
    "## Project Title\n",
    "A Data Analysis Project  \n",
    "Author:Frank Oyugi"
   ]
  },
  {
   "cell_type": "markdown",
   "metadata": {},
   "source": [
    "## Overview\n",
    "In this project,we will be using Exploratory Data Analysis(EDA) to analyze five sets of datasets and use our findings to provide recommendations to 'Microsoft',a company trying to get into the film-making industry."
   ]
  },
  {
   "cell_type": "markdown",
   "metadata": {},
   "source": [
    "## Business Problem\n",
    "Microsoft have decided to create a new movie studio,but they are new to the film-making business.We will be exploring what types of films are doing the best at box office then using those findings to provide insights to the movie studio and help decide what types of films to create.The data questions I plan to answer to solve this problem include:  \n",
    "1.What movies have been the highest-grossing each year?  \n",
    "2.What are the trends in box office revenue over time?  \n",
    "3.How are different movie genres performing?  \n",
    "4.How do gender preferences vary across demographic groups?  \n",
    "5.How do film ratings correlate with box office performance?  \n",
    "6.Who are the major competitors in the film-making industry,and what type of films do they produce?  \n",
    "7.What is happening with the highly popular streaming platforms?  "
   ]
  },
  {
   "cell_type": "markdown",
   "metadata": {},
   "source": [
    "In this project,we will be analyzing 5 datasets which contain various information that includes:  \n",
    "1.Movies  \n",
    "2.The movie genres  \n",
    "3.The movies ratings  \n",
    "4.The target audiences  \n",
    "5.Box office performance  \n",
    "These dataset names are as follows:  \n",
    "1.Box Office Mojo  \n",
    "2.IMDB  \n",
    "3.Rotten Tomatoes  \n",
    "4.The MovieDB  \n",
    "5.The Numbers \n",
    "\n",
    "Let's perform some data exploration:"
   ]
  },
  {
   "cell_type": "code",
   "execution_count": 47,
   "metadata": {},
   "outputs": [],
   "source": [
    "# Your code here - remember to use markdown cells for comments as well!"
   ]
  },
  {
   "cell_type": "code",
   "execution_count": 48,
   "metadata": {},
   "outputs": [],
   "source": [
    "#Import Libraries\n",
    "import pandas as pd\n",
    "import matplotlib.pyplot as plt\n",
    "import sqlite3\n",
    "import seaborn as sns\n",
    "import numpy as np"
   ]
  },
  {
   "cell_type": "code",
   "execution_count": 49,
   "metadata": {},
   "outputs": [
    {
     "data": {
      "text/plain": [
       "(     movie_id  averagerating  numvotes\n",
       " 0  tt10356526            8.3        31\n",
       " 1  tt10384606            8.9       559\n",
       " 2   tt1042974            6.4        20\n",
       " 3   tt1043726            4.2     50352\n",
       " 4   tt1060240            6.5        21,\n",
       "     movie_id                    primary_title              original_title  \\\n",
       " 0  tt0063540                        Sunghursh                   Sunghursh   \n",
       " 1  tt0066787  One Day Before the Rainy Season             Ashad Ka Ek Din   \n",
       " 2  tt0069049       The Other Side of the Wind  The Other Side of the Wind   \n",
       " 3  tt0069204                  Sabse Bada Sukh             Sabse Bada Sukh   \n",
       " 4  tt0100275         The Wandering Soap Opera       La Telenovela Errante   \n",
       " \n",
       "    start_year  runtime_minutes                genres  \n",
       " 0        2013            175.0    Action,Crime,Drama  \n",
       " 1        2019            114.0       Biography,Drama  \n",
       " 2        2018            122.0                 Drama  \n",
       " 3        2018              NaN          Comedy,Drama  \n",
       " 4        2017             80.0  Comedy,Drama,Fantasy  )"
      ]
     },
     "execution_count": 49,
     "metadata": {},
     "output_type": "execute_result"
    }
   ],
   "source": [
    "#Open your db file\n",
    "\n",
    "#Open 'im.db' database\n",
    "conn = sqlite3.connect('im.db')\n",
    "\n",
    "#Return list of every table in the db\n",
    "table_names=pd.read_sql(\"\"\"SELECT name FROM sqlite_master WHERE type = 'table';\"\"\",conn)\n",
    "\n",
    "#Return first 5 records of 'movie_basics' and 'movie_ratings' columns\n",
    "movie_basics_columns = pd.read_sql(\"SELECT * FROM movie_basics;\",conn)\n",
    "movie_ratings_columns = pd.read_sql(\"SELECT * FROM movie_ratings;\",conn)\n",
    "movie_ratings_columns.head(),movie_basics_columns.head()"
   ]
  },
  {
   "cell_type": "code",
   "execution_count": 50,
   "metadata": {},
   "outputs": [],
   "source": [
    "#Open csv files"
   ]
  },
  {
   "cell_type": "code",
   "execution_count": 51,
   "metadata": {},
   "outputs": [
    {
     "data": {
      "text/html": [
       "<div>\n",
       "<style scoped>\n",
       "    .dataframe tbody tr th:only-of-type {\n",
       "        vertical-align: middle;\n",
       "    }\n",
       "\n",
       "    .dataframe tbody tr th {\n",
       "        vertical-align: top;\n",
       "    }\n",
       "\n",
       "    .dataframe thead th {\n",
       "        text-align: right;\n",
       "    }\n",
       "</style>\n",
       "<table border=\"1\" class=\"dataframe\">\n",
       "  <thead>\n",
       "    <tr style=\"text-align: right;\">\n",
       "      <th></th>\n",
       "      <th>id</th>\n",
       "      <th>release_date</th>\n",
       "      <th>movie</th>\n",
       "      <th>production_budget</th>\n",
       "      <th>domestic_gross</th>\n",
       "      <th>worldwide_gross</th>\n",
       "    </tr>\n",
       "  </thead>\n",
       "  <tbody>\n",
       "    <tr>\n",
       "      <th>0</th>\n",
       "      <td>1</td>\n",
       "      <td>Dec 18, 2009</td>\n",
       "      <td>Avatar</td>\n",
       "      <td>$425,000,000</td>\n",
       "      <td>$760,507,625</td>\n",
       "      <td>$2,776,345,279</td>\n",
       "    </tr>\n",
       "    <tr>\n",
       "      <th>1</th>\n",
       "      <td>2</td>\n",
       "      <td>May 20, 2011</td>\n",
       "      <td>Pirates of the Caribbean: On Stranger Tides</td>\n",
       "      <td>$410,600,000</td>\n",
       "      <td>$241,063,875</td>\n",
       "      <td>$1,045,663,875</td>\n",
       "    </tr>\n",
       "    <tr>\n",
       "      <th>2</th>\n",
       "      <td>3</td>\n",
       "      <td>Jun 7, 2019</td>\n",
       "      <td>Dark Phoenix</td>\n",
       "      <td>$350,000,000</td>\n",
       "      <td>$42,762,350</td>\n",
       "      <td>$149,762,350</td>\n",
       "    </tr>\n",
       "    <tr>\n",
       "      <th>3</th>\n",
       "      <td>4</td>\n",
       "      <td>May 1, 2015</td>\n",
       "      <td>Avengers: Age of Ultron</td>\n",
       "      <td>$330,600,000</td>\n",
       "      <td>$459,005,868</td>\n",
       "      <td>$1,403,013,963</td>\n",
       "    </tr>\n",
       "    <tr>\n",
       "      <th>4</th>\n",
       "      <td>5</td>\n",
       "      <td>Dec 15, 2017</td>\n",
       "      <td>Star Wars Ep. VIII: The Last Jedi</td>\n",
       "      <td>$317,000,000</td>\n",
       "      <td>$620,181,382</td>\n",
       "      <td>$1,316,721,747</td>\n",
       "    </tr>\n",
       "  </tbody>\n",
       "</table>\n",
       "</div>"
      ],
      "text/plain": [
       "   id  release_date                                        movie  \\\n",
       "0   1  Dec 18, 2009                                       Avatar   \n",
       "1   2  May 20, 2011  Pirates of the Caribbean: On Stranger Tides   \n",
       "2   3   Jun 7, 2019                                 Dark Phoenix   \n",
       "3   4   May 1, 2015                      Avengers: Age of Ultron   \n",
       "4   5  Dec 15, 2017            Star Wars Ep. VIII: The Last Jedi   \n",
       "\n",
       "  production_budget domestic_gross worldwide_gross  \n",
       "0      $425,000,000   $760,507,625  $2,776,345,279  \n",
       "1      $410,600,000   $241,063,875  $1,045,663,875  \n",
       "2      $350,000,000    $42,762,350    $149,762,350  \n",
       "3      $330,600,000   $459,005,868  $1,403,013,963  \n",
       "4      $317,000,000   $620,181,382  $1,316,721,747  "
      ]
     },
     "execution_count": 51,
     "metadata": {},
     "output_type": "execute_result"
    }
   ],
   "source": [
    "df1 = pd.read_csv('tn.movie_budgets.csv.gz')\n",
    "df1.head()"
   ]
  },
  {
   "cell_type": "code",
   "execution_count": 52,
   "metadata": {},
   "outputs": [
    {
     "data": {
      "text/html": [
       "<div>\n",
       "<style scoped>\n",
       "    .dataframe tbody tr th:only-of-type {\n",
       "        vertical-align: middle;\n",
       "    }\n",
       "\n",
       "    .dataframe tbody tr th {\n",
       "        vertical-align: top;\n",
       "    }\n",
       "\n",
       "    .dataframe thead th {\n",
       "        text-align: right;\n",
       "    }\n",
       "</style>\n",
       "<table border=\"1\" class=\"dataframe\">\n",
       "  <thead>\n",
       "    <tr style=\"text-align: right;\">\n",
       "      <th></th>\n",
       "      <th>title</th>\n",
       "      <th>studio</th>\n",
       "      <th>domestic_gross</th>\n",
       "      <th>foreign_gross</th>\n",
       "      <th>year</th>\n",
       "    </tr>\n",
       "  </thead>\n",
       "  <tbody>\n",
       "    <tr>\n",
       "      <th>0</th>\n",
       "      <td>Toy Story 3</td>\n",
       "      <td>BV</td>\n",
       "      <td>415000000.0</td>\n",
       "      <td>652000000</td>\n",
       "      <td>2010</td>\n",
       "    </tr>\n",
       "    <tr>\n",
       "      <th>1</th>\n",
       "      <td>Alice in Wonderland (2010)</td>\n",
       "      <td>BV</td>\n",
       "      <td>334200000.0</td>\n",
       "      <td>691300000</td>\n",
       "      <td>2010</td>\n",
       "    </tr>\n",
       "    <tr>\n",
       "      <th>2</th>\n",
       "      <td>Harry Potter and the Deathly Hallows Part 1</td>\n",
       "      <td>WB</td>\n",
       "      <td>296000000.0</td>\n",
       "      <td>664300000</td>\n",
       "      <td>2010</td>\n",
       "    </tr>\n",
       "    <tr>\n",
       "      <th>3</th>\n",
       "      <td>Inception</td>\n",
       "      <td>WB</td>\n",
       "      <td>292600000.0</td>\n",
       "      <td>535700000</td>\n",
       "      <td>2010</td>\n",
       "    </tr>\n",
       "    <tr>\n",
       "      <th>4</th>\n",
       "      <td>Shrek Forever After</td>\n",
       "      <td>P/DW</td>\n",
       "      <td>238700000.0</td>\n",
       "      <td>513900000</td>\n",
       "      <td>2010</td>\n",
       "    </tr>\n",
       "  </tbody>\n",
       "</table>\n",
       "</div>"
      ],
      "text/plain": [
       "                                         title studio  domestic_gross  \\\n",
       "0                                  Toy Story 3     BV     415000000.0   \n",
       "1                   Alice in Wonderland (2010)     BV     334200000.0   \n",
       "2  Harry Potter and the Deathly Hallows Part 1     WB     296000000.0   \n",
       "3                                    Inception     WB     292600000.0   \n",
       "4                          Shrek Forever After   P/DW     238700000.0   \n",
       "\n",
       "  foreign_gross  year  \n",
       "0     652000000  2010  \n",
       "1     691300000  2010  \n",
       "2     664300000  2010  \n",
       "3     535700000  2010  \n",
       "4     513900000  2010  "
      ]
     },
     "execution_count": 52,
     "metadata": {},
     "output_type": "execute_result"
    }
   ],
   "source": [
    "df2 = pd.read_csv('bom.movie_gross.csv.gz')\n",
    "df2.head()"
   ]
  },
  {
   "cell_type": "code",
   "execution_count": 53,
   "metadata": {},
   "outputs": [
    {
     "data": {
      "text/html": [
       "<div>\n",
       "<style scoped>\n",
       "    .dataframe tbody tr th:only-of-type {\n",
       "        vertical-align: middle;\n",
       "    }\n",
       "\n",
       "    .dataframe tbody tr th {\n",
       "        vertical-align: top;\n",
       "    }\n",
       "\n",
       "    .dataframe thead th {\n",
       "        text-align: right;\n",
       "    }\n",
       "</style>\n",
       "<table border=\"1\" class=\"dataframe\">\n",
       "  <thead>\n",
       "    <tr style=\"text-align: right;\">\n",
       "      <th></th>\n",
       "      <th>Unnamed: 0</th>\n",
       "      <th>genre_ids</th>\n",
       "      <th>id</th>\n",
       "      <th>original_language</th>\n",
       "      <th>original_title</th>\n",
       "      <th>popularity</th>\n",
       "      <th>release_date</th>\n",
       "      <th>title</th>\n",
       "      <th>vote_average</th>\n",
       "      <th>vote_count</th>\n",
       "    </tr>\n",
       "  </thead>\n",
       "  <tbody>\n",
       "    <tr>\n",
       "      <th>0</th>\n",
       "      <td>0</td>\n",
       "      <td>[12, 14, 10751]</td>\n",
       "      <td>12444</td>\n",
       "      <td>en</td>\n",
       "      <td>Harry Potter and the Deathly Hallows: Part 1</td>\n",
       "      <td>33.533</td>\n",
       "      <td>2010-11-19</td>\n",
       "      <td>Harry Potter and the Deathly Hallows: Part 1</td>\n",
       "      <td>7.7</td>\n",
       "      <td>10788</td>\n",
       "    </tr>\n",
       "    <tr>\n",
       "      <th>1</th>\n",
       "      <td>1</td>\n",
       "      <td>[14, 12, 16, 10751]</td>\n",
       "      <td>10191</td>\n",
       "      <td>en</td>\n",
       "      <td>How to Train Your Dragon</td>\n",
       "      <td>28.734</td>\n",
       "      <td>2010-03-26</td>\n",
       "      <td>How to Train Your Dragon</td>\n",
       "      <td>7.7</td>\n",
       "      <td>7610</td>\n",
       "    </tr>\n",
       "    <tr>\n",
       "      <th>2</th>\n",
       "      <td>2</td>\n",
       "      <td>[12, 28, 878]</td>\n",
       "      <td>10138</td>\n",
       "      <td>en</td>\n",
       "      <td>Iron Man 2</td>\n",
       "      <td>28.515</td>\n",
       "      <td>2010-05-07</td>\n",
       "      <td>Iron Man 2</td>\n",
       "      <td>6.8</td>\n",
       "      <td>12368</td>\n",
       "    </tr>\n",
       "    <tr>\n",
       "      <th>3</th>\n",
       "      <td>3</td>\n",
       "      <td>[16, 35, 10751]</td>\n",
       "      <td>862</td>\n",
       "      <td>en</td>\n",
       "      <td>Toy Story</td>\n",
       "      <td>28.005</td>\n",
       "      <td>1995-11-22</td>\n",
       "      <td>Toy Story</td>\n",
       "      <td>7.9</td>\n",
       "      <td>10174</td>\n",
       "    </tr>\n",
       "    <tr>\n",
       "      <th>4</th>\n",
       "      <td>4</td>\n",
       "      <td>[28, 878, 12]</td>\n",
       "      <td>27205</td>\n",
       "      <td>en</td>\n",
       "      <td>Inception</td>\n",
       "      <td>27.920</td>\n",
       "      <td>2010-07-16</td>\n",
       "      <td>Inception</td>\n",
       "      <td>8.3</td>\n",
       "      <td>22186</td>\n",
       "    </tr>\n",
       "  </tbody>\n",
       "</table>\n",
       "</div>"
      ],
      "text/plain": [
       "   Unnamed: 0            genre_ids     id original_language  \\\n",
       "0           0      [12, 14, 10751]  12444                en   \n",
       "1           1  [14, 12, 16, 10751]  10191                en   \n",
       "2           2        [12, 28, 878]  10138                en   \n",
       "3           3      [16, 35, 10751]    862                en   \n",
       "4           4        [28, 878, 12]  27205                en   \n",
       "\n",
       "                                 original_title  popularity release_date  \\\n",
       "0  Harry Potter and the Deathly Hallows: Part 1      33.533   2010-11-19   \n",
       "1                      How to Train Your Dragon      28.734   2010-03-26   \n",
       "2                                    Iron Man 2      28.515   2010-05-07   \n",
       "3                                     Toy Story      28.005   1995-11-22   \n",
       "4                                     Inception      27.920   2010-07-16   \n",
       "\n",
       "                                          title  vote_average  vote_count  \n",
       "0  Harry Potter and the Deathly Hallows: Part 1           7.7       10788  \n",
       "1                      How to Train Your Dragon           7.7        7610  \n",
       "2                                    Iron Man 2           6.8       12368  \n",
       "3                                     Toy Story           7.9       10174  \n",
       "4                                     Inception           8.3       22186  "
      ]
     },
     "execution_count": 53,
     "metadata": {},
     "output_type": "execute_result"
    }
   ],
   "source": [
    "df3 = pd.read_csv('tmdb.movies.csv.gz')\n",
    "df3.head()"
   ]
  },
  {
   "cell_type": "code",
   "execution_count": 54,
   "metadata": {},
   "outputs": [
    {
     "data": {
      "text/html": [
       "<div>\n",
       "<style scoped>\n",
       "    .dataframe tbody tr th:only-of-type {\n",
       "        vertical-align: middle;\n",
       "    }\n",
       "\n",
       "    .dataframe tbody tr th {\n",
       "        vertical-align: top;\n",
       "    }\n",
       "\n",
       "    .dataframe thead th {\n",
       "        text-align: right;\n",
       "    }\n",
       "</style>\n",
       "<table border=\"1\" class=\"dataframe\">\n",
       "  <thead>\n",
       "    <tr style=\"text-align: right;\">\n",
       "      <th></th>\n",
       "      <th>id</th>\n",
       "      <th>synopsis</th>\n",
       "      <th>rating</th>\n",
       "      <th>genre</th>\n",
       "      <th>director</th>\n",
       "      <th>writer</th>\n",
       "      <th>theater_date</th>\n",
       "      <th>dvd_date</th>\n",
       "      <th>currency</th>\n",
       "      <th>box_office</th>\n",
       "      <th>runtime</th>\n",
       "      <th>studio</th>\n",
       "    </tr>\n",
       "  </thead>\n",
       "  <tbody>\n",
       "    <tr>\n",
       "      <th>0</th>\n",
       "      <td>1</td>\n",
       "      <td>This gritty, fast-paced, and innovative police...</td>\n",
       "      <td>R</td>\n",
       "      <td>Action and Adventure|Classics|Drama</td>\n",
       "      <td>William Friedkin</td>\n",
       "      <td>Ernest Tidyman</td>\n",
       "      <td>Oct 9, 1971</td>\n",
       "      <td>Sep 25, 2001</td>\n",
       "      <td>NaN</td>\n",
       "      <td>NaN</td>\n",
       "      <td>104 minutes</td>\n",
       "      <td>NaN</td>\n",
       "    </tr>\n",
       "    <tr>\n",
       "      <th>1</th>\n",
       "      <td>3</td>\n",
       "      <td>New York City, not-too-distant-future: Eric Pa...</td>\n",
       "      <td>R</td>\n",
       "      <td>Drama|Science Fiction and Fantasy</td>\n",
       "      <td>David Cronenberg</td>\n",
       "      <td>David Cronenberg|Don DeLillo</td>\n",
       "      <td>Aug 17, 2012</td>\n",
       "      <td>Jan 1, 2013</td>\n",
       "      <td>$</td>\n",
       "      <td>600,000</td>\n",
       "      <td>108 minutes</td>\n",
       "      <td>Entertainment One</td>\n",
       "    </tr>\n",
       "    <tr>\n",
       "      <th>2</th>\n",
       "      <td>5</td>\n",
       "      <td>Illeana Douglas delivers a superb performance ...</td>\n",
       "      <td>R</td>\n",
       "      <td>Drama|Musical and Performing Arts</td>\n",
       "      <td>Allison Anders</td>\n",
       "      <td>Allison Anders</td>\n",
       "      <td>Sep 13, 1996</td>\n",
       "      <td>Apr 18, 2000</td>\n",
       "      <td>NaN</td>\n",
       "      <td>NaN</td>\n",
       "      <td>116 minutes</td>\n",
       "      <td>NaN</td>\n",
       "    </tr>\n",
       "    <tr>\n",
       "      <th>3</th>\n",
       "      <td>6</td>\n",
       "      <td>Michael Douglas runs afoul of a treacherous su...</td>\n",
       "      <td>R</td>\n",
       "      <td>Drama|Mystery and Suspense</td>\n",
       "      <td>Barry Levinson</td>\n",
       "      <td>Paul Attanasio|Michael Crichton</td>\n",
       "      <td>Dec 9, 1994</td>\n",
       "      <td>Aug 27, 1997</td>\n",
       "      <td>NaN</td>\n",
       "      <td>NaN</td>\n",
       "      <td>128 minutes</td>\n",
       "      <td>NaN</td>\n",
       "    </tr>\n",
       "    <tr>\n",
       "      <th>4</th>\n",
       "      <td>7</td>\n",
       "      <td>NaN</td>\n",
       "      <td>NR</td>\n",
       "      <td>Drama|Romance</td>\n",
       "      <td>Rodney Bennett</td>\n",
       "      <td>Giles Cooper</td>\n",
       "      <td>NaN</td>\n",
       "      <td>NaN</td>\n",
       "      <td>NaN</td>\n",
       "      <td>NaN</td>\n",
       "      <td>200 minutes</td>\n",
       "      <td>NaN</td>\n",
       "    </tr>\n",
       "  </tbody>\n",
       "</table>\n",
       "</div>"
      ],
      "text/plain": [
       "   id                                           synopsis rating  \\\n",
       "0   1  This gritty, fast-paced, and innovative police...      R   \n",
       "1   3  New York City, not-too-distant-future: Eric Pa...      R   \n",
       "2   5  Illeana Douglas delivers a superb performance ...      R   \n",
       "3   6  Michael Douglas runs afoul of a treacherous su...      R   \n",
       "4   7                                                NaN     NR   \n",
       "\n",
       "                                 genre          director  \\\n",
       "0  Action and Adventure|Classics|Drama  William Friedkin   \n",
       "1    Drama|Science Fiction and Fantasy  David Cronenberg   \n",
       "2    Drama|Musical and Performing Arts    Allison Anders   \n",
       "3           Drama|Mystery and Suspense    Barry Levinson   \n",
       "4                        Drama|Romance    Rodney Bennett   \n",
       "\n",
       "                            writer  theater_date      dvd_date currency  \\\n",
       "0                   Ernest Tidyman   Oct 9, 1971  Sep 25, 2001      NaN   \n",
       "1     David Cronenberg|Don DeLillo  Aug 17, 2012   Jan 1, 2013        $   \n",
       "2                   Allison Anders  Sep 13, 1996  Apr 18, 2000      NaN   \n",
       "3  Paul Attanasio|Michael Crichton   Dec 9, 1994  Aug 27, 1997      NaN   \n",
       "4                     Giles Cooper           NaN           NaN      NaN   \n",
       "\n",
       "  box_office      runtime             studio  \n",
       "0        NaN  104 minutes                NaN  \n",
       "1    600,000  108 minutes  Entertainment One  \n",
       "2        NaN  116 minutes                NaN  \n",
       "3        NaN  128 minutes                NaN  \n",
       "4        NaN  200 minutes                NaN  "
      ]
     },
     "execution_count": 54,
     "metadata": {},
     "output_type": "execute_result"
    }
   ],
   "source": [
    "df4 = pd.read_csv('rt.movie_info.tsv.gz', sep='\\t')\n",
    "df4.head()"
   ]
  },
  {
   "cell_type": "code",
   "execution_count": 55,
   "metadata": {},
   "outputs": [
    {
     "data": {
      "text/html": [
       "<div>\n",
       "<style scoped>\n",
       "    .dataframe tbody tr th:only-of-type {\n",
       "        vertical-align: middle;\n",
       "    }\n",
       "\n",
       "    .dataframe tbody tr th {\n",
       "        vertical-align: top;\n",
       "    }\n",
       "\n",
       "    .dataframe thead th {\n",
       "        text-align: right;\n",
       "    }\n",
       "</style>\n",
       "<table border=\"1\" class=\"dataframe\">\n",
       "  <thead>\n",
       "    <tr style=\"text-align: right;\">\n",
       "      <th></th>\n",
       "      <th>id</th>\n",
       "      <th>review</th>\n",
       "      <th>rating</th>\n",
       "      <th>fresh</th>\n",
       "      <th>critic</th>\n",
       "      <th>top_critic</th>\n",
       "      <th>publisher</th>\n",
       "      <th>date</th>\n",
       "    </tr>\n",
       "  </thead>\n",
       "  <tbody>\n",
       "    <tr>\n",
       "      <th>0</th>\n",
       "      <td>3</td>\n",
       "      <td>A distinctly gallows take on contemporary fina...</td>\n",
       "      <td>3/5</td>\n",
       "      <td>fresh</td>\n",
       "      <td>PJ Nabarro</td>\n",
       "      <td>0</td>\n",
       "      <td>Patrick Nabarro</td>\n",
       "      <td>November 10, 2018</td>\n",
       "    </tr>\n",
       "    <tr>\n",
       "      <th>1</th>\n",
       "      <td>3</td>\n",
       "      <td>It's an allegory in search of a meaning that n...</td>\n",
       "      <td>NaN</td>\n",
       "      <td>rotten</td>\n",
       "      <td>Annalee Newitz</td>\n",
       "      <td>0</td>\n",
       "      <td>io9.com</td>\n",
       "      <td>May 23, 2018</td>\n",
       "    </tr>\n",
       "    <tr>\n",
       "      <th>2</th>\n",
       "      <td>3</td>\n",
       "      <td>... life lived in a bubble in financial dealin...</td>\n",
       "      <td>NaN</td>\n",
       "      <td>fresh</td>\n",
       "      <td>Sean Axmaker</td>\n",
       "      <td>0</td>\n",
       "      <td>Stream on Demand</td>\n",
       "      <td>January 4, 2018</td>\n",
       "    </tr>\n",
       "    <tr>\n",
       "      <th>3</th>\n",
       "      <td>3</td>\n",
       "      <td>Continuing along a line introduced in last yea...</td>\n",
       "      <td>NaN</td>\n",
       "      <td>fresh</td>\n",
       "      <td>Daniel Kasman</td>\n",
       "      <td>0</td>\n",
       "      <td>MUBI</td>\n",
       "      <td>November 16, 2017</td>\n",
       "    </tr>\n",
       "    <tr>\n",
       "      <th>4</th>\n",
       "      <td>3</td>\n",
       "      <td>... a perverse twist on neorealism...</td>\n",
       "      <td>NaN</td>\n",
       "      <td>fresh</td>\n",
       "      <td>NaN</td>\n",
       "      <td>0</td>\n",
       "      <td>Cinema Scope</td>\n",
       "      <td>October 12, 2017</td>\n",
       "    </tr>\n",
       "  </tbody>\n",
       "</table>\n",
       "</div>"
      ],
      "text/plain": [
       "   id                                             review rating   fresh  \\\n",
       "0   3  A distinctly gallows take on contemporary fina...    3/5   fresh   \n",
       "1   3  It's an allegory in search of a meaning that n...    NaN  rotten   \n",
       "2   3  ... life lived in a bubble in financial dealin...    NaN   fresh   \n",
       "3   3  Continuing along a line introduced in last yea...    NaN   fresh   \n",
       "4   3             ... a perverse twist on neorealism...     NaN   fresh   \n",
       "\n",
       "           critic  top_critic         publisher               date  \n",
       "0      PJ Nabarro           0   Patrick Nabarro  November 10, 2018  \n",
       "1  Annalee Newitz           0           io9.com       May 23, 2018  \n",
       "2    Sean Axmaker           0  Stream on Demand    January 4, 2018  \n",
       "3   Daniel Kasman           0              MUBI  November 16, 2017  \n",
       "4             NaN           0      Cinema Scope   October 12, 2017  "
      ]
     },
     "execution_count": 55,
     "metadata": {},
     "output_type": "execute_result"
    }
   ],
   "source": [
    "df5 = pd.read_csv('rt.reviews.tsv.gz', sep='\\t', encoding='unicode_escape')\n",
    "df5.head()"
   ]
  },
  {
   "cell_type": "code",
   "execution_count": 56,
   "metadata": {},
   "outputs": [],
   "source": [
    "#Data Exploration"
   ]
  },
  {
   "cell_type": "markdown",
   "metadata": {},
   "source": [
    "## Correlation  \n",
    "Correlation is used to measure the strength and the direction of the relationaship between two variables"
   ]
  },
  {
   "cell_type": "code",
   "execution_count": 57,
   "metadata": {},
   "outputs": [
    {
     "name": "stdout",
     "output_type": "stream",
     "text": [
      "Correlation between 'production_budget' and 'domestic_gross': nan\n"
     ]
    }
   ],
   "source": [
    "#Correlation between production_budget and domestic_gross\n",
    "\n",
    "budgets_df = pd.read_csv('tn.movie_budgets.csv.gz')\n",
    "\n",
    "budgets_df['production_budget'] = pd.to_numeric(budgets_df['production_budget'], errors='coerce')\n",
    "budgets_df['domestic_gross'] = pd.to_numeric(budgets_df['domestic_gross'], errors='coerce')\n",
    "\n",
    "budget_corr = budgets_df['production_budget'].corr(budgets_df['domestic_gross'])\n",
    "\n",
    "print(\"Correlation between 'production_budget' and 'domestic_gross':\", budget_corr)\n",
    "\n",
    "#The correlation is \"Nan\" because some cells have nan values and they have not been cleaned yet"
   ]
  },
  {
   "cell_type": "code",
   "execution_count": 58,
   "metadata": {},
   "outputs": [],
   "source": [
    "#Measures Of Central Tendency"
   ]
  },
  {
   "cell_type": "code",
   "execution_count": 59,
   "metadata": {},
   "outputs": [
    {
     "name": "stdout",
     "output_type": "stream",
     "text": [
      "Movie with highest average rating: Exteriores: Mulheres Brasileiras na Diplomacia .Genre: Documentary\n",
      "Movie with lowest average rating: Hito no sabaku .Genre: Drama\n"
     ]
    }
   ],
   "source": [
    "#Maximum average rating and genre\n",
    "query_1 = \"SELECT * FROM movie_basics\"\n",
    "query_2 = \"SELECT * FROM movie_ratings\"\n",
    "basics_df = pd.read_sql_query(query_1, conn)\n",
    "ratings_df = pd.read_sql_query(query_2, conn)\n",
    "merge_df = pd.merge(basics_df,ratings_df, on='movie_id')\n",
    "\n",
    "highest_rated_movie = merge_df.loc[merge_df['averagerating'].idxmax()]\n",
    "highest_rated_movie_title = highest_rated_movie['primary_title']\n",
    "highest_rated_movie_genre = highest_rated_movie['genres']\n",
    "#Minimum average rating and genre\n",
    "lowest_rated_movie = merge_df.loc[merge_df['averagerating'].idxmin()]\n",
    "lowest_rated_movie_title = lowest_rated_movie['primary_title']\n",
    "lowest_rated_movie_genre = lowest_rated_movie['genres']\n",
    "#Print results\n",
    "print('Movie with highest average rating:',highest_rated_movie_title,'.''Genre:',highest_rated_movie_genre)\n",
    "print('Movie with lowest average rating:',lowest_rated_movie_title,'.''Genre:',lowest_rated_movie_genre)"
   ]
  },
  {
   "cell_type": "code",
   "execution_count": 60,
   "metadata": {},
   "outputs": [
    {
     "data": {
      "text/plain": [
       "release_year\n",
       "1915    1.100000e+05\n",
       "1916    2.929535e+05\n",
       "1920    1.000000e+05\n",
       "1925    2.072500e+06\n",
       "1927    2.000000e+06\n",
       "            ...     \n",
       "2016    4.097370e+07\n",
       "2017    5.003073e+07\n",
       "2018    4.813886e+07\n",
       "2019    5.273896e+07\n",
       "2020    9.400000e+07\n",
       "Name: production_budget, Length: 96, dtype: float64"
      ]
     },
     "execution_count": 60,
     "metadata": {},
     "output_type": "execute_result"
    }
   ],
   "source": [
    "#Mean Production Budget Per Year\n",
    "df1['release_date'] = pd.to_datetime(df1['release_date'])\n",
    "df1['release_year'] = df1['release_date'].dt.year\n",
    "df1['production_budget'] = df1['production_budget'].str.replace('$', '').str.replace(',', '').astype(float)\n",
    "mean_budget = df1.groupby('release_year')['production_budget'].mean()\n",
    "mean_budget"
   ]
  },
  {
   "cell_type": "code",
   "execution_count": 61,
   "metadata": {},
   "outputs": [
    {
     "name": "stdout",
     "output_type": "stream",
     "text": [
      "2015    338\n",
      "2010    274\n",
      "2008    264\n",
      "2006    260\n",
      "2014    255\n",
      "       ... \n",
      "1947      1\n",
      "1927      1\n",
      "1941      1\n",
      "1937      1\n",
      "1915      1\n",
      "Name: release_year, Length: 96, dtype: int64\n"
     ]
    }
   ],
   "source": [
    "#Calculate no. of movies released per year\n",
    "released_year_numbers = df1['release_year'].value_counts()\n",
    "print(released_year_numbers)"
   ]
  },
  {
   "cell_type": "code",
   "execution_count": 62,
   "metadata": {},
   "outputs": [
    {
     "name": "stdout",
     "output_type": "stream",
     "text": [
      "The person who has directed the most movies is: Omer Pasha\n",
      "The person who has directed the least movies is: Raphaelle Ayach\n"
     ]
    }
   ],
   "source": [
    "#Director with highest number of movies\n",
    "\n",
    "query_3 = \"SELECT * FROM directors\"\n",
    "query_4 = \"SELECT * FROM persons\"\n",
    "directors_df = pd.read_sql_query(query_3, conn)\n",
    "persons_df = pd.read_sql_query(query_4, conn)\n",
    "merged_df2 = pd.merge(directors_df,persons_df, on='person_id')\n",
    "\n",
    "director_counts = merged_df2['person_id'].value_counts()\n",
    "\n",
    "most_frequent_id = director_counts.idxmax()\n",
    "most_frequent_name = merged_df2.loc[merged_df2['person_id'] == most_frequent_id, 'primary_name'].iloc[0]\n",
    "\n",
    "#Dirctor with lowest number of movies\n",
    "\n",
    "least_frequent_id = director_counts.idxmin()\n",
    "least_frequent_name = merged_df2.loc[merged_df2['person_id'] == least_frequent_id, 'primary_name'].iloc[0]\n",
    "\n",
    "#Print\n",
    "\n",
    "print(\"The person who has directed the most movies is:\", most_frequent_name)\n",
    "print(\"The person who has directed the least movies is:\", least_frequent_name)"
   ]
  },
  {
   "cell_type": "code",
   "execution_count": 63,
   "metadata": {},
   "outputs": [
    {
     "name": "stdout",
     "output_type": "stream",
     "text": [
      "The person who has written the most movies is: Omer Pasha\n",
      "The person who has written the least movies is: Raphaelle Ayach\n"
     ]
    }
   ],
   "source": [
    "#Writer with highest number of movies\n",
    "\n",
    "query_5 = \"SELECT * FROM writers\"\n",
    "\n",
    "writers_df = pd.read_sql_query(query_3, conn)\n",
    "\n",
    "merged_df3 = pd.merge(writers_df,persons_df, on='person_id')\n",
    "\n",
    "writer_counts = merged_df3['person_id'].value_counts()\n",
    "\n",
    "most_frequent_id_writer = writer_counts.idxmax()\n",
    "most_frequent_name_writer = merged_df3.loc[merged_df3['person_id'] == most_frequent_id_writer, 'primary_name'].iloc[0]\n",
    "\n",
    "#Writer with lowest number of movies\n",
    "\n",
    "least_frequent_id_writer = writer_counts.idxmin()\n",
    "least_frequent_name = merged_df3.loc[merged_df3['person_id'] == least_frequent_id_writer, 'primary_name'].iloc[0]\n",
    "\n",
    "#Print\n",
    "\n",
    "print(\"The person who has written the most movies is:\", most_frequent_name)\n",
    "print(\"The person who has written the least movies is:\", least_frequent_name)"
   ]
  },
  {
   "cell_type": "markdown",
   "metadata": {},
   "source": [
    "## Data Cleaning  \n",
    "This is the process of dealing with numerical probelms and inconsistencies in your data.Some data cleaning tasks include:  \n",
    "1.Cleaning empty cells.  \n",
    "2.Cleaning wrong formats.  \n",
    "3.Cleaning wrong data.  \n",
    "4.Removing duplicates.  "
   ]
  },
  {
   "cell_type": "code",
   "execution_count": 64,
   "metadata": {},
   "outputs": [],
   "source": [
    "#Removing Duplicates"
   ]
  },
  {
   "cell_type": "code",
   "execution_count": 65,
   "metadata": {},
   "outputs": [],
   "source": [
    "#Function For Removing Duplicates from csv files\n",
    "\n",
    "def find_duplicates(dataframe):\n",
    "    former_duplicates = dataframe.duplicated().sum() #Initial Duplicates\n",
    "    if former_duplicates > 0:\n",
    "        dataframe.drop_duplicates(inplace=True) #Removing Duplicates\n",
    "        latter_duplicates = dataframe.duplicated().sum() #Updated Duplicates\n",
    "        print(\"Duplicates removed. Number of duplicate rows before:\", former_duplicates, \", Number of duplicate rows after:\", latter_duplicates)\n",
    "    else:\n",
    "        print(\"No duplicates found.\")\n"
   ]
  },
  {
   "cell_type": "code",
   "execution_count": 66,
   "metadata": {},
   "outputs": [
    {
     "name": "stdout",
     "output_type": "stream",
     "text": [
      "No duplicates found.\n"
     ]
    }
   ],
   "source": [
    "#Duplicates In Movie_Budget File\n",
    "\n",
    "df1 = find_duplicates(df1)"
   ]
  },
  {
   "cell_type": "code",
   "execution_count": 67,
   "metadata": {},
   "outputs": [
    {
     "name": "stdout",
     "output_type": "stream",
     "text": [
      "No duplicates found.\n"
     ]
    }
   ],
   "source": [
    "#Duplicates in movie_gross file\n",
    "\n",
    "df2 = find_duplicates(df2)"
   ]
  },
  {
   "cell_type": "code",
   "execution_count": 68,
   "metadata": {},
   "outputs": [
    {
     "name": "stdout",
     "output_type": "stream",
     "text": [
      "No duplicates found.\n"
     ]
    }
   ],
   "source": [
    "#Duplicates in movies file\n",
    "\n",
    "df3 = find_duplicates(df3)"
   ]
  },
  {
   "cell_type": "code",
   "execution_count": 69,
   "metadata": {},
   "outputs": [
    {
     "name": "stdout",
     "output_type": "stream",
     "text": [
      "No duplicates found.\n"
     ]
    }
   ],
   "source": [
    "#Duplicates in movie_info file\n",
    "\n",
    "df4 = find_duplicates(df4)"
   ]
  },
  {
   "cell_type": "code",
   "execution_count": 70,
   "metadata": {},
   "outputs": [
    {
     "name": "stdout",
     "output_type": "stream",
     "text": [
      "Duplicates removed. Number of duplicate rows before: 9 , Number of duplicate rows after: 0\n"
     ]
    }
   ],
   "source": [
    "#Duplicates in reviews file\n",
    "\n",
    "#There were 9 duplicates but I ran the code more than once\n",
    "\n",
    "find_duplicates(df5)"
   ]
  },
  {
   "cell_type": "code",
   "execution_count": 71,
   "metadata": {},
   "outputs": [],
   "source": [
    "#Function for removing duplicates in database tables\n",
    "\n",
    "def find_duplicates_db(conn,table_name):\n",
    "    query = f\"SELECT * FROM {table_name};\"\n",
    "    duplicate_df = pd.read_sql_query(query, conn)\n",
    "    cleaned_df = duplicate_df.drop_duplicates()\n",
    "    cleaned_df.to_sql(name=table_name, con=conn, if_exists='replace', index=False)\n",
    "    print(\"Duplicates Removed\")"
   ]
  },
  {
   "cell_type": "code",
   "execution_count": 72,
   "metadata": {},
   "outputs": [
    {
     "name": "stdout",
     "output_type": "stream",
     "text": [
      "Duplicates Removed\n"
     ]
    }
   ],
   "source": [
    "#Duplicates in directors table)\n",
    "\n",
    "find_duplicates_db(conn,'directors')"
   ]
  },
  {
   "cell_type": "code",
   "execution_count": 73,
   "metadata": {},
   "outputs": [
    {
     "name": "stdout",
     "output_type": "stream",
     "text": [
      "Duplicates Removed\n"
     ]
    }
   ],
   "source": [
    "#Duplicates in writers table)\n",
    "\n",
    "find_duplicates_db(conn,'writers')"
   ]
  },
  {
   "cell_type": "code",
   "execution_count": 74,
   "metadata": {},
   "outputs": [
    {
     "name": "stdout",
     "output_type": "stream",
     "text": [
      "Duplicates Removed\n"
     ]
    }
   ],
   "source": [
    "#Duplicates in principals table)\n",
    "\n",
    "find_duplicates_db(conn,'principals')"
   ]
  },
  {
   "cell_type": "code",
   "execution_count": 75,
   "metadata": {},
   "outputs": [
    {
     "name": "stdout",
     "output_type": "stream",
     "text": [
      "Duplicates Removed\n"
     ]
    }
   ],
   "source": [
    "#Duplicates in persons table)\n",
    "\n",
    "find_duplicates_db(conn,'persons')"
   ]
  },
  {
   "cell_type": "code",
   "execution_count": 76,
   "metadata": {},
   "outputs": [
    {
     "name": "stdout",
     "output_type": "stream",
     "text": [
      "Duplicates Removed\n"
     ]
    }
   ],
   "source": [
    "#Duplicates in known_for table)\n",
    "\n",
    "find_duplicates_db(conn,'known_for')"
   ]
  },
  {
   "cell_type": "code",
   "execution_count": 77,
   "metadata": {},
   "outputs": [
    {
     "name": "stdout",
     "output_type": "stream",
     "text": [
      "Duplicates Removed\n"
     ]
    }
   ],
   "source": [
    "#Duplicates in movie_ratings table)\n",
    "\n",
    "find_duplicates_db(conn,'movie_ratings')"
   ]
  },
  {
   "cell_type": "code",
   "execution_count": 78,
   "metadata": {},
   "outputs": [
    {
     "name": "stdout",
     "output_type": "stream",
     "text": [
      "Duplicates Removed\n"
     ]
    }
   ],
   "source": [
    "#Duplicates in movie_akas table)\n",
    "\n",
    "find_duplicates_db(conn,'movie_akas')"
   ]
  },
  {
   "cell_type": "code",
   "execution_count": 79,
   "metadata": {},
   "outputs": [
    {
     "name": "stdout",
     "output_type": "stream",
     "text": [
      "Duplicates Removed\n"
     ]
    }
   ],
   "source": [
    "#Duplicates in movie_basics table)\n",
    "\n",
    "find_duplicates_db(conn,'movie_basics')"
   ]
  },
  {
   "cell_type": "code",
   "execution_count": 80,
   "metadata": {},
   "outputs": [],
   "source": [
    "#Cleaning empty cells"
   ]
  },
  {
   "cell_type": "code",
   "execution_count": 81,
   "metadata": {},
   "outputs": [
    {
     "name": "stdout",
     "output_type": "stream",
     "text": [
      "   id                                           synopsis rating  \\\n",
      "0   1  This gritty, fast-paced, and innovative police...      R   \n",
      "1   3  New York City, not-too-distant-future: Eric Pa...      R   \n",
      "2   5  Illeana Douglas delivers a superb performance ...      R   \n",
      "3   6  Michael Douglas runs afoul of a treacherous su...      R   \n",
      "4   7                                                NaN     NR   \n",
      "\n",
      "                                 genre          director  \\\n",
      "0  Action and Adventure|Classics|Drama  William Friedkin   \n",
      "1    Drama|Science Fiction and Fantasy  David Cronenberg   \n",
      "2    Drama|Musical and Performing Arts    Allison Anders   \n",
      "3           Drama|Mystery and Suspense    Barry Levinson   \n",
      "4                        Drama|Romance    Rodney Bennett   \n",
      "\n",
      "                            writer  theater_date      dvd_date      runtime  \n",
      "0                   Ernest Tidyman   Oct 9, 1971  Sep 25, 2001  104 minutes  \n",
      "1     David Cronenberg|Don DeLillo  Aug 17, 2012   Jan 1, 2013  108 minutes  \n",
      "2                   Allison Anders  Sep 13, 1996  Apr 18, 2000  116 minutes  \n",
      "3  Paul Attanasio|Michael Crichton   Dec 9, 1994  Aug 27, 1997  128 minutes  \n",
      "4                     Giles Cooper           NaN           NaN  200 minutes  \n"
     ]
    }
   ],
   "source": [
    "#Removing 'currency','studio'and 'box_office' columns in 'movie_info table because of Nan values'\n",
    "df4 = pd.read_csv('rt.movie_info.tsv.gz', sep='\\t')\n",
    "\n",
    "columns_to_drop_movie_info = ['currency', 'studio','box_office']\n",
    "new_df4 = df4.drop(columns=columns_to_drop_movie_info, inplace=False)\n",
    "\n",
    "print(new_df4.head())"
   ]
  },
  {
   "cell_type": "code",
   "execution_count": 82,
   "metadata": {},
   "outputs": [
    {
     "name": "stdout",
     "output_type": "stream",
     "text": [
      "   id                                             review   fresh  \\\n",
      "0   3  A distinctly gallows take on contemporary fina...   fresh   \n",
      "1   3  It's an allegory in search of a meaning that n...  rotten   \n",
      "2   3  ... life lived in a bubble in financial dealin...   fresh   \n",
      "3   3  Continuing along a line introduced in last yea...   fresh   \n",
      "4   3             ... a perverse twist on neorealism...    fresh   \n",
      "\n",
      "           critic         publisher               date  \n",
      "0      PJ Nabarro   Patrick Nabarro  November 10, 2018  \n",
      "1  Annalee Newitz           io9.com       May 23, 2018  \n",
      "2    Sean Axmaker  Stream on Demand    January 4, 2018  \n",
      "3   Daniel Kasman              MUBI  November 16, 2017  \n",
      "4             NaN      Cinema Scope   October 12, 2017  \n"
     ]
    }
   ],
   "source": [
    "#Removing 'rating' and 'top_critic' columns from 'reviews' file because of Nan values\n",
    "df5 = pd.read_csv('rt.reviews.tsv.gz', sep='\\t', encoding='unicode_escape')\n",
    "\n",
    "columns_to_drop_reviews =['rating','top_critic']\n",
    "new_df5 = df5.drop(columns=columns_to_drop_reviews, inplace=False)\n",
    "\n",
    "print(new_df5.head())"
   ]
  },
  {
   "cell_type": "code",
   "execution_count": 83,
   "metadata": {},
   "outputs": [
    {
     "name": "stdout",
     "output_type": "stream",
     "text": [
      "   id  release_date                                        movie  \\\n",
      "0   1  Dec 18, 2009                                       Avatar   \n",
      "1   2  May 20, 2011  Pirates of the Caribbean: On Stranger Tides   \n",
      "2   3   Jun 7, 2019                                 Dark Phoenix   \n",
      "3   4   May 1, 2015                      Avengers: Age of Ultron   \n",
      "4   5  Dec 15, 2017            Star Wars Ep. VIII: The Last Jedi   \n",
      "\n",
      "   production_budget  domestic_gross  worldwide_gross  \n",
      "0        425000000.0     760507625.0     2.776345e+09  \n",
      "1        410600000.0     241063875.0     1.045664e+09  \n",
      "2        350000000.0      42762350.0     1.497624e+08  \n",
      "3        330600000.0     459005868.0     1.403014e+09  \n",
      "4        317000000.0     620181382.0     1.316722e+09  \n"
     ]
    }
   ],
   "source": [
    "#Replacing Nan values in movie_budgets file numerical columns with the mean of Non-Nan values\n",
    "#Replace 'Nan' with empty values\n",
    "df1 = pd.read_csv('tn.movie_budgets.csv.gz')\n",
    "\n",
    "df1.replace('NaN',np.nan,inplace=True)\n",
    "\n",
    "#Make all characters numeric\n",
    "\n",
    "df1['production_budget'] = df1['production_budget'].astype(str).str.replace('$', '').str.replace(',', '').astype(float)\n",
    "df1['domestic_gross'] = df1['domestic_gross'].astype(str).str.replace('$', '').str.replace(',', '').astype(float)\n",
    "df1['worldwide_gross'] = df1['worldwide_gross'].astype(str).str.replace('$', '').str.replace(',', '').astype(float)\n",
    "\n",
    "#Find Mean\n",
    "\n",
    "mean_production_budget = df1['production_budget'].mean()\n",
    "mean_domestic_gross = df1['domestic_gross'].mean()\n",
    "mean_worldwide_gross = df1['worldwide_gross'].mean()\n",
    "\n",
    "#Replace empty values with mean\n",
    "\n",
    "new_df1 = df1.fillna({'production_budget': mean_production_budget,\n",
    "                     'domestic_gross': mean_domestic_gross,\n",
    "                     'worldwide_gross': mean_worldwide_gross}, inplace=False)\n",
    "#Print\n",
    "\n",
    "print(new_df1.head())"
   ]
  },
  {
   "cell_type": "code",
   "execution_count": 84,
   "metadata": {
    "scrolled": true
   },
   "outputs": [
    {
     "name": "stdout",
     "output_type": "stream",
     "text": [
      "                                         title studio  domestic_gross  \\\n",
      "0                                  Toy Story 3     BV     415000000.0   \n",
      "1                   Alice in Wonderland (2010)     BV     334200000.0   \n",
      "2  Harry Potter and the Deathly Hallows Part 1     WB     296000000.0   \n",
      "3                                    Inception     WB     292600000.0   \n",
      "4                          Shrek Forever After   P/DW     238700000.0   \n",
      "\n",
      "   foreign_gross  year  \n",
      "0    652000000.0  2010  \n",
      "1    691300000.0  2010  \n",
      "2    664300000.0  2010  \n",
      "3    535700000.0  2010  \n",
      "4    513900000.0  2010  \n"
     ]
    }
   ],
   "source": [
    "#Replacing Nan values in movie_gross file numerical columns with the mean of Non-Nan values\n",
    "df2 = pd.read_csv('bom.movie_gross.csv.gz')\n",
    "\n",
    "#Replace 'Nan' with empty values\n",
    "\n",
    "df2.replace('NaN',np.nan,inplace=True)\n",
    "\n",
    "#Make in characters in foreign_gross column numeric\n",
    "\n",
    "df2['foreign_gross'] = df2['foreign_gross'].astype(str).str.replace('$', '').str.replace(',', '').astype(float)\n",
    "\n",
    "#Find Mean\n",
    "\n",
    "mean_domestic_gross_2 = df2['domestic_gross'].mean()\n",
    "mean_foreign_gross = df2['foreign_gross'].mean()\n",
    "\n",
    "#Replace the empty values with mean\n",
    "\n",
    "new_df2 = df2.fillna({'domestic_gross': mean_domestic_gross_2,\n",
    "                     'foreign_gross': mean_foreign_gross}, inplace=False)\n",
    "\n",
    "print(new_df2.head())"
   ]
  },
  {
   "cell_type": "markdown",
   "metadata": {},
   "source": [
    "## Visualizations  \n",
    "These are graphical representations of data and information.They play a crucial role in understanding the patterns,trends and relatioships in data.Some of the common visualizations used un data analysis include:  \n",
    "1.Bar Plots.  \n",
    "2.Scatter Plots.  \n",
    "3.Histograms.  \n",
    "4.Line Plots.  \n",
    "5.Heat Maps."
   ]
  },
  {
   "cell_type": "markdown",
   "metadata": {},
   "source": [
    "## Heatmap showing correlation relationship between production budget and domestic gross."
   ]
  },
  {
   "cell_type": "code",
   "execution_count": 85,
   "metadata": {},
   "outputs": [
    {
     "data": {
      "image/png": "[encoded data removed]",
      "text/plain": [
       "<Figure size 720x432 with 2 Axes>"
      ]
     },
     "metadata": {
      "needs_background": "light"
     },
     "output_type": "display_data"
    }
   ],
   "source": [
    "plt.figure(figsize=(10, 6))\n",
    "sns.heatmap(new_df1[['production_budget', 'domestic_gross']].corr(), annot=True, cmap='coolwarm', fmt=\".2f\")\n",
    "plt.title('Correlation Heatmap: Production Budget vs. Domestic Gross')\n",
    "plt.xlabel('Variables')\n",
    "plt.ylabel('Variables')\n",
    "plt.show()"
   ]
  },
  {
   "cell_type": "markdown",
   "metadata": {},
   "source": [
    "## Conclusion.\n",
    "From the heat map above,we can conclude that there is a positive correlation relationship between production_budget and domestic_gross(0.69),which means when the production_budget increases,the domestic_gross also increases."
   ]
  },
  {
   "cell_type": "markdown",
   "metadata": {},
   "source": [
    "## Heatmap showing correlation relationship between domestic gross and worldwide gross."
   ]
  },
  {
   "cell_type": "code",
   "execution_count": 86,
   "metadata": {},
   "outputs": [
    {
     "data": {
      "image/png": "[encoded data removed]",
      "text/plain": [
       "<Figure size 720x432 with 2 Axes>"
      ]
     },
     "metadata": {
      "needs_background": "light"
     },
     "output_type": "display_data"
    }
   ],
   "source": [
    "plt.figure(figsize=(10, 6))\n",
    "sns.heatmap(new_df1[['domestic_gross', 'worldwide_gross']].corr(), annot=True, cmap='coolwarm', fmt=\".2f\")\n",
    "plt.title('Correlation Heatmap: Domestic Gross vs. Worldwide Gross')\n",
    "plt.xlabel('Variables')\n",
    "plt.ylabel('Variables')\n",
    "plt.show()"
   ]
  },
  {
   "cell_type": "markdown",
   "metadata": {},
   "source": [
    "## Conclusion.\n",
    "From the heat map above,we can conclude that there is a  very strong positive correlation relationship between domestic_gross and worldwide_gross(0.94),which means when the production_budget increases,the domestic_gross will almost always also increase."
   ]
  },
  {
   "cell_type": "markdown",
   "metadata": {},
   "source": [
    "## Histogram showing frequency distribution of average movie ratings."
   ]
  },
  {
   "cell_type": "code",
   "execution_count": 87,
   "metadata": {},
   "outputs": [
    {
     "data": {
      "image/png": "[encoded data removed]",
      "text/plain": [
       "<Figure size 720x432 with 1 Axes>"
      ]
     },
     "metadata": {
      "needs_background": "light"
     },
     "output_type": "display_data"
    }
   ],
   "source": [
    "query_6 = \"SELECT * FROM movie_ratings\"\n",
    "\n",
    "ratings_df = pd.read_sql_query(query_6, conn)\n",
    "\n",
    "plt.figure(figsize=(10, 6)) \n",
    "plt.hist(ratings_df['averagerating'], bins=20, color='lightblue', edgecolor='black')  \n",
    "plt.title('Histogram showing distribution of average movie ratings')\n",
    "plt.xlabel('Average Rating')\n",
    "plt.ylabel('Frequency')\n",
    "plt.show()"
   ]
  },
  {
   "cell_type": "markdown",
   "metadata": {},
   "source": [
    "## Conclusion.  \n",
    "From the histogram above,we can conclude that most movies are rated at 6.5.This also shows that 6.5 is the mean average rating"
   ]
  },
  {
   "cell_type": "code",
   "execution_count": 88,
   "metadata": {},
   "outputs": [],
   "source": [
    "## Histogram showing frequency distribution of movie runtimes."
   ]
  },
  {
   "cell_type": "code",
   "execution_count": 89,
   "metadata": {},
   "outputs": [
    {
     "name": "stderr",
     "output_type": "stream",
     "text": [
      "C:\\Users\\lenovo\\anaconda3\\envs\\learn-env\\lib\\site-packages\\numpy\\lib\\histograms.py:839: RuntimeWarning: invalid value encountered in greater_equal\n",
      "  keep = (tmp_a >= first_edge)\n",
      "C:\\Users\\lenovo\\anaconda3\\envs\\learn-env\\lib\\site-packages\\numpy\\lib\\histograms.py:840: RuntimeWarning: invalid value encountered in less_equal\n",
      "  keep &= (tmp_a <= last_edge)\n"
     ]
    },
    {
     "data": {
      "image/png": "[encoded data removed]",
      "text/plain": [
       "<Figure size 720x432 with 1 Axes>"
      ]
     },
     "metadata": {
      "needs_background": "light"
     },
     "output_type": "display_data"
    }
   ],
   "source": [
    "query_7 = \"SELECT * FROM movie_basics\"\n",
    "\n",
    "ratings_df = pd.read_sql_query(query_7, conn)\n",
    "\n",
    "plt.figure(figsize=(10, 6)) \n",
    "plt.hist(ratings_df['runtime_minutes'], bins=5,range=(0,200), color='lightblue', edgecolor='black')  \n",
    "plt.title('Histogram showing distribution of movie runtimes')\n",
    "plt.xlabel('Runtime in minutes')\n",
    "plt.ylabel('Frequency')\n",
    "plt.show()"
   ]
  },
  {
   "cell_type": "markdown",
   "metadata": {},
   "source": [
    "## Conclusion.  \n",
    "From the histogram above,we can conclude that most movies are 100 minutes long./"
   ]
  },
  {
   "cell_type": "markdown",
   "metadata": {},
   "source": [
    "## Bar Chart Showing The Top 5 And Bottom 5 Genres"
   ]
  },
  {
   "cell_type": "code",
   "execution_count": 90,
   "metadata": {},
   "outputs": [
    {
     "data": {
      "image/png": "[encoded data removed]",
      "text/plain": [
       "<Figure size 720x432 with 1 Axes>"
      ]
     },
     "metadata": {
      "needs_background": "light"
     },
     "output_type": "display_data"
    }
   ],
   "source": [
    "genres_df = pd.read_sql_query(query_7, conn)\n",
    "\n",
    "# Count the occurrences of each genre\n",
    "\n",
    "genre_counts = genres_df['genres'].value_counts()\n",
    "\n",
    "# Select top 5 and bottom 5 genres\n",
    "\n",
    "top_bottom_genres = pd.concat([genre_counts.head(5), genre_counts.tail(5)])\n",
    "\n",
    "# Plot the bar chart\n",
    "\n",
    "plt.figure(figsize=(10, 6)) \n",
    "top_bottom_genres.plot(kind='bar', color='skyblue', edgecolor='black') \n",
    "plt.title('Bar Chart Showing Top 5 and Bottom 5 Genres by Occurrences')\n",
    "plt.xlabel('Genre')\n",
    "plt.ylabel('Frequency')\n",
    "plt.xticks(rotation=45, ha='right')  # Rotate x-axis labels for better readability\n",
    "plt.show()"
   ]
  },
  {
   "cell_type": "markdown",
   "metadata": {},
   "source": [
    "## Conclusion.  \n",
    "From the bar chart above,we can conclude that the 5 most popular genres are documentary,drama,comedy,horror and comedy/drama,which the most popular one being documentary,which supports the theory that the highest rated movie is also a documentary as we had seen before durig data exploration.At the same time,we ca see that the 5 least popular documentaries are documentary/musical/mystery,drama/horror/short,action/animation/music,crime/family/horror ad fantasy/history/sci-fi."
   ]
  },
  {
   "cell_type": "markdown",
   "metadata": {},
   "source": [
    "## Recommendations.  \n",
    "From the results of data exploration and the visualizations that I've created,I would make the following recommendations to Microsoft:  \n",
    "1.Invest heavily in the production budget.The heat maps show that their is a positive correlation between production budget and domestic gross.  \n",
    "2.Focus on making documentaries and dramas.The histogram above shows that these two genres are the most popular ones.  \n",
    "3.Hire 'Omar Pasha' as your writer and director.He has contributed to the highest number of films in this dataset.  \n",
    "4.Avoid hiring 'Raphaelle Ayach' as your writer and director.He has contributed to the lowest number of films in this dataset.  \n",
    "5.make movies which are between 90 and 110 minutes long.The average runtime is 100 minutes.\n",
    "6.Do not make musicals and fantasies.They are the least popular genres.  \n",
    "7.Target movie ratings of 6.5 or higher.6.5 is the average movie rating."
   ]
  },
  {
   "cell_type": "code",
   "execution_count": null,
   "metadata": {},
   "outputs": [],
   "source": []
  }
 ],
 "metadata": {
  "kernelspec": {
   "display_name": "Python (learn-env)",
   "language": "python",
   "name": "learn-env"
  },
  "language_info": {
   "codemirror_mode": {
    "name": "ipython",
    "version": 3
   },
   "file_extension": ".py",
   "mimetype": "text/x-python",
   "name": "python",
   "nbconvert_exporter": "python",
   "pygments_lexer": "ipython3",
   "version": "3.8.5"
  }
 },
 "nbformat": 4,
 "nbformat_minor": 2
}
