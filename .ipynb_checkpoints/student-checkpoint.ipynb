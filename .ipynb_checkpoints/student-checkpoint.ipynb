{
 "cells": [
  {
   "cell_type": "markdown",
   "metadata": {},
   "source": [
    "## Final Project Submission\n",
    "\n",
    "Please fill out:\n",
    "* Student name: Frank Oyugi\n",
    "* Student pace: self paced / part time / full time : full time\n",
    "* Scheduled project review date/time: 22/03/2024\n",
    "* Instructor name: Maryann Mwikali\n",
    "* Blog post URL:https://github.com/FrankOyugi/Phase-1-Project-Movies-Data-Analysis\n"
   ]
  },
  {
   "cell_type": "markdown",
   "metadata": {},
   "source": [
    "## Project Title\n",
    "A Data Analysis Project  \n",
    "Author:Frank Oyugi"
   ]
  },
  {
   "cell_type": "markdown",
   "metadata": {},
   "source": [
    "## Overview\n",
    "In this project,we will be using Exploratory Data Analysis(EDA) to aanalyze five sets of datasets and use our findings to provide recommendations to 'Microsoft',a company trying to get into the film-making industry."
   ]
  },
  {
   "cell_type": "markdown",
   "metadata": {},
   "source": [
    "## Business Problem\n",
    "Microsoft have decided to create a new movie studio,but they are new to the film-making business.We will be exploring what types of films are doing the best at box office then using those findings to provide insights to the movie studio and help decide what types of films to create.The data questions I plan to answer to solve this problem include:  \n",
    "1.What movies have been the highest-grossing each year?  \n",
    "2.What are the trends in box office revenue over time?  \n",
    "3.How are different movie genres performing?  \n",
    "4.How do gender preferences vary across demographic groups?  \n",
    "5.How do film ratings correlate with box office performance?  \n",
    "6.Who are the major competitors in the film-making industry,and what type of films do they produce?  \n",
    "7.What is happening with the highly popular streaming platforms?  "
   ]
  },
  {
   "cell_type": "markdown",
   "metadata": {},
   "source": [
    "In this project,we will be analyzing 5 datasets which contain various information that includes:  \n",
    "1.Movies  \n",
    "2.The movie genres  \n",
    "3.The movies ratings  \n",
    "4.The target audiences  \n",
    "5.Box office performance  \n",
    "These dataset names are as follows:  \n",
    "1.Box Office Mojo  \n",
    "2.IMDB  \n",
    "3.Rotten Tomatoes  \n",
    "4.The MovieDB  \n",
    "5.The Numbers \n",
    "\n",
    "Let's perform some data exploration:"
   ]
  },
  {
   "cell_type": "code",
   "execution_count": null,
   "metadata": {},
   "outputs": [],
   "source": [
    "# Your code here - remember to use markdown cells for comments as well!"
   ]
  },
  {
   "cell_type": "code",
   "execution_count": 4,
   "metadata": {},
   "outputs": [],
   "source": [
    "#Import Libraries\n",
    "import pandas as pd\n",
    "import matplotlib.pyplot as plt\n",
    "import sqlite3\n",
    "import seaborn as sns\n",
    "import numpy as np\n",
    "import os"
   ]
  },
  {
   "cell_type": "code",
   "execution_count": null,
   "metadata": {},
   "outputs": [],
   "source": []
  }
 ],
 "metadata": {
  "kernelspec": {
   "display_name": "Python (learn-env)",
   "language": "python",
   "name": "learn-env"
  },
  "language_info": {
   "codemirror_mode": {
    "name": "ipython",
    "version": 3
   },
   "file_extension": ".py",
   "mimetype": "text/x-python",
   "name": "python",
   "nbconvert_exporter": "python",
   "pygments_lexer": "ipython3",
   "version": "3.8.5"
  }
 },
 "nbformat": 4,
 "nbformat_minor": 2
}
